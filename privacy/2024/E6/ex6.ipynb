{
 "cells": [
  {
   "cell_type": "markdown",
   "id": "13781f97",
   "metadata": {},
   "source": [
    "# Exercise 6\n",
    "\n",
    "# Setup to run the notebook\n",
    "\n",
    "- Ensure that `python3` is available in the system with python version 3.10.\n",
    "- Create a virtual env - `python3 -m venv env`\n",
    "- Activate the env - `source env/bin/activate`\n",
    "- Run the code cells for observing results."
   ]
  },
  {
   "cell_type": "markdown",
   "id": "1c3e1b10",
   "metadata": {},
   "source": [
    "## 1: The ElGamal cryptosystem"
   ]
  },
  {
   "cell_type": "code",
   "execution_count": 3,
   "id": "b4f3fb6d",
   "metadata": {},
   "outputs": [],
   "source": [
    "import random"
   ]
  },
  {
   "cell_type": "code",
   "execution_count": 4,
   "id": "b7b4744e",
   "metadata": {},
   "outputs": [],
   "source": [
    "# Helper function\n",
    "def gcd(a, b):\n",
    "    while b != 0:\n",
    "        a, b = b, a % b\n",
    "    return a\n",
    "\n",
    "# Helper function\n",
    "def find_primitive_root(q):\n",
    "    for g in range(2, q):\n",
    "        if gcd(g, q) == 1:\n",
    "            return g\n",
    "    return None\n",
    "\n",
    "# Key generation for the ElGamal cryptosystem\n",
    "def e_keygen(q):\n",
    "    g = find_primitive_root(q)\n",
    "    if g is None:\n",
    "        return None, None\n",
    "    x = random.randint(1, q-2)\n",
    "    h = pow(g, x, q)\n",
    "\n",
    "    public_key = (q, g, h)\n",
    "    private_key = x\n",
    "\n",
    "    return public_key, private_key"
   ]
  },
  {
   "cell_type": "code",
   "execution_count": 5,
   "id": "261806b8",
   "metadata": {},
   "outputs": [],
   "source": [
    "# Key encryption for the ElGamal cryptosystem\n",
    "def e_encrypt(msg, pk):\n",
    "    q, g, h = pk\n",
    "    k = random.randint(1, q-2)\n",
    "\n",
    "    c1 = pow(g, k, q)\n",
    "    c2 = (msg * pow(h, k, q)) % q\n",
    "\n",
    "    return c1, c2"
   ]
  },
  {
   "cell_type": "code",
   "execution_count": 6,
   "id": "1cdeb1d4",
   "metadata": {},
   "outputs": [],
   "source": [
    "# Helper function\n",
    "def modinv(a, m):\n",
    "    # This function returns the inverse of a modulo m\n",
    "    g, x, y = egcd(a, m)\n",
    "    if g != 1:\n",
    "        raise Exception('Modular inverse does not exist')\n",
    "    else:\n",
    "        return x % m\n",
    "\n",
    "# Helper function\n",
    "def egcd(a, b):\n",
    "    # Extended Euclidean Algorithm\n",
    "    if a == 0:\n",
    "        return (b, 0, 1)\n",
    "    else:\n",
    "        g, y, x = egcd(b % a, a)\n",
    "        return (g, x - (b // a) * y, y)\n",
    "\n",
    "# Key decryption for the ElGamal cryptosystem\n",
    "def e_decrypt(c, x, pk):\n",
    "    c1, c2 = c\n",
    "    q, g, h = pk\n",
    "\n",
    "    s = pow(c1, x, q)\n",
    "    s_inv = modinv(s, q)\n",
    "    msg = (c2 * s_inv) % q\n",
    "    return msg"
   ]
  },
  {
   "cell_type": "code",
   "execution_count": 7,
   "id": "92f3fa87",
   "metadata": {},
   "outputs": [
    {
     "data": {
      "text/plain": [
       "50"
      ]
     },
     "execution_count": 7,
     "metadata": {},
     "output_type": "execute_result"
    }
   ],
   "source": [
    "# Test the ElGamal cryptosystem for generating keys, encrypting and decrypting\n",
    "q = 2**127 - 1\n",
    "\n",
    "sk, pk = e_keygen(q)\n",
    "c = e_encrypt(50, sk)\n",
    "\n",
    "e_decrypt(c, pk, sk)"
   ]
  },
  {
   "cell_type": "code",
   "execution_count": 8,
   "id": "9048184c",
   "metadata": {},
   "outputs": [],
   "source": [
    "# Multiplication of ElGamal ciphertexts\n",
    "def e_mult(c1, c2, pk):\n",
    "    q, g, h = pk\n",
    "    c11, c12 = c1\n",
    "    c21, c22 = c2\n",
    "\n",
    "    # Multiply the first parts of the ciphertexts\n",
    "    new_c1 = (c11 * c21) % q\n",
    "\n",
    "    # Multiply the second parts of the ciphertexts\n",
    "    new_c2 = (c12 * c22) % q\n",
    "\n",
    "    return new_c1, new_c2"
   ]
  },
  {
   "cell_type": "code",
   "execution_count": 9,
   "id": "0ea6e458",
   "metadata": {},
   "outputs": [],
   "source": [
    "# Test cases for showing correctness of the implementation\n",
    "\n",
    "# Test 1\n",
    "q = 2**127 - 1\n",
    "pk, sk = e_keygen(q)\n",
    "c1 = e_encrypt(5, pk)\n",
    "c2 = e_encrypt(10, pk)\n",
    "c3 = e_mult(c1, c2, pk)\n",
    "\n",
    "assert e_decrypt(c3, sk, pk) == 50\n",
    "\n",
    "# Test 2\n",
    "q = 2**227 - 1\n",
    "pk, sk = e_keygen(q)\n",
    "c1 = e_encrypt(5**25, pk)\n",
    "c2 = e_encrypt(10**25, pk)\n",
    "c3 = e_mult(c1, c2, pk)\n",
    "\n",
    "assert e_decrypt(c3, sk, pk) == 2980232238769531250000000000000000000000000\n",
    "\n",
    "\n",
    "# Test 3\n",
    "q = 2**327 - 1\n",
    "pk, sk = e_keygen(q)\n",
    "c1 = e_encrypt(28**50, pk)\n",
    "c2 = e_encrypt(329**50, pk)\n",
    "c3 = e_mult(c1, c2, pk)\n",
    "\n",
    "assert e_decrypt(c3, sk, pk) == 227649946206217048085015677443757528434845177408940388249825297116688924748709775450598383345711419"
   ]
  },
  {
   "cell_type": "markdown",
   "id": "1983fcdb",
   "metadata": {},
   "source": [
    "## Question 2: Application of partially homomorphic encryption: Paillier (5 points)\n",
    "Below you are given an implementation of the partially homomorphic Pailler encryption scheme. \n",
    "\n",
    "Which operations does the Pailler encryption scheme support? Which data types does it operate on?\n",
    "\n",
    "Use the Paillier implementation to write functions that allow a server to compute the (encrypted) total price of a shopping cart based on encrypted prices and cleartext quantities.\n",
    "\n",
    "Complete the following functions:\n",
    "- `shopping_cart_client`, which implements a client that sets up homomorphic encryption(generates keys), encrypts the prices of shopping cart items, lets the server compute the total cost of the shopping cart, decrypts and returns the total cost\n",
    "- `encrypted_price_calculator`, which implements a server that computes the encrypted total cost of the shopping cart and returns the value to the client"
   ]
  },
  {
   "cell_type": "markdown",
   "id": "0c31745b",
   "metadata": {},
   "source": [
    "1. It supports the following operations\n",
    "- Homomorphic Addition of Ciphertexts\n",
    "- Homomorphic Multiplication of an Encrypted Number by a Plaintext Number\n",
    "\n",
    "2. The Paillier cryptosystem operates on integers."
   ]
  },
  {
   "cell_type": "code",
   "execution_count": null,
   "id": "1070fbeb",
   "metadata": {},
   "outputs": [],
   "source": [
    "%pip install -U pip wheel setuptools\n",
    "%pip install numpy\n",
    "%pip install phe\n"
   ]
  },
  {
   "cell_type": "code",
   "execution_count": null,
   "id": "c88337d2",
   "metadata": {},
   "outputs": [],
   "source": []
  },
  {
   "cell_type": "code",
   "execution_count": 8,
   "id": "4fc820c4",
   "metadata": {},
   "outputs": [],
   "source": [
    "PrivateKey = namedtuple(\"PrivateKey\", [\"lam\", \"mu\"])\n",
    "PublicKey = namedtuple(\"PublicKey\", [\"g\", \"n\", \"n_squared\"])\n",
    "\n",
    "DEFAULT_BIT_LENGTH = 32\n",
    "\n",
    "\n",
    "def generate_primes(n: int) -> List[int]:\n",
    "    # https://stackoverflow.com/questions/2068372/fastest-way-to-list-all-primes-below-n-in-python/3035188#3035188\n",
    "    \"\"\" Input n>=6, Returns an array of primes, 2 <= p < n \"\"\"\n",
    "    sieve = np.ones(n // 3 + (n % 6 == 2), dtype=bool)\n",
    "    for i in range(1, int(n ** 0.5) // 3 + 1):\n",
    "        if sieve[i]:\n",
    "            k = 3 * i + 1 | 1\n",
    "            sieve[k * k // 3 :: 2 * k] = False\n",
    "            sieve[k * (k - 2 * (i & 1) + 4) // 3 :: 2 * k] = False\n",
    "    primes = np.r_[2, 3, ((3 * np.nonzero(sieve)[0][1:] + 1) | 1)]\n",
    "    return [int(n) for n in primes]\n",
    "\n",
    "\n",
    "def L(n: int, x: int) -> int:\n",
    "    return (x - 1) // n\n",
    "\n",
    "\n",
    "def create_key_pair(\n",
    "    bit_length: int = DEFAULT_BIT_LENGTH,\n",
    ") -> Tuple[PrivateKey, PublicKey]:\n",
    "    primes = generate_primes(2 ** (bit_length // 2))\n",
    "\n",
    "    p = secrets.choice(primes)\n",
    "    q = secrets.choice(primes)\n",
    "    n = p * q\n",
    "\n",
    "    while p == q or n.bit_length() != bit_length or np.gcd(n, (p - 1) * (q - 1)) != 1:\n",
    "        p = secrets.choice(primes)\n",
    "        q = secrets.choice(primes)\n",
    "        n = p * q\n",
    "\n",
    "    n_squared = n ** 2\n",
    "    g = secrets.randbelow(n_squared - 1) + 1\n",
    "    public_key = PublicKey(g, n, n_squared)\n",
    "\n",
    "    lam = int(np.lcm(p - 1, q - 1))\n",
    "\n",
    "    try:\n",
    "        mu = pow(L(n, pow(g, lam, n_squared)), -1, n)\n",
    "    except ValueError:\n",
    "        return create_key_pair(bit_length)\n",
    "\n",
    "    private_key = PrivateKey(lam, mu)\n",
    "    return private_key, public_key\n",
    "\n",
    "\n",
    "def encrypt(public_key: PublicKey, plaintext: int) -> int:\n",
    "    g, n, n_squared = public_key\n",
    "    r = secrets.randbelow(n)\n",
    "    return (pow(g, plaintext, n_squared) * pow(r, n, n_squared)) % n_squared\n",
    "\n",
    "\n",
    "def decrypt(private_key: PrivateKey, public_key: PublicKey, ciphertext: int) -> int:\n",
    "    lam, mu = private_key\n",
    "    _, n, n_squared = public_key\n",
    "    return (L(n, pow(ciphertext, lam, n_squared)) * mu) % n\n",
    "\n",
    "\n",
    "def add(public_key: PublicKey, ciphertext_a: int, ciphertext_b: int) -> int:\n",
    "    return (ciphertext_a * ciphertext_b) % public_key.n_squared\n",
    "\n",
    "\n",
    "def multiply(public_key: PublicKey, ciphertext_a: int, plaintext_b: int) -> int:\n",
    "    if plaintext_b == 0:\n",
    "        return encrypt(public_key, 0)\n",
    "\n",
    "    if plaintext_b == 1:\n",
    "        encrypted_zero = encrypt(public_key, 0)\n",
    "        return add(public_key, ciphertext_a, encrypted_zero)\n",
    "\n",
    "    return pow(ciphertext_a, plaintext_b, public_key.n_squared)"
   ]
  },
  {
   "cell_type": "code",
   "execution_count": 9,
   "id": "71242773",
   "metadata": {},
   "outputs": [],
   "source": [
    "def encrypted_price_calculator(\n",
    "    public_key: PublicKey,\n",
    "    encrypted_cart: List[Tuple[int, int]],\n",
    ") -> int:\n",
    "    total_encrypted = encrypt(public_key, 0)  # Start with an encrypted value of 0\n",
    "\n",
    "    for encrypted_price, quantity in encrypted_cart:\n",
    "        # Multiply each encrypted price by its quantity and add to the total\n",
    "        total_encrypted = add(public_key, total_encrypted, multiply(public_key, encrypted_price, quantity))\n",
    "\n",
    "    return total_encrypted"
   ]
  },
  {
   "cell_type": "code",
   "execution_count": 10,
   "id": "e520e945",
   "metadata": {},
   "outputs": [],
   "source": [
    "def shopping_cart_client(cart):\n",
    "    # Generate keys\n",
    "    private_key, public_key = create_key_pair()\n",
    "\n",
    "    # Encrypt the prices in the cart\n",
    "    encrypted_cart = [(encrypt(public_key, price), quantity) for price, quantity in cart]\n",
    "\n",
    "    # Let the server compute the encrypted total cost\n",
    "    encrypted_total = encrypted_price_calculator(public_key, encrypted_cart)\n",
    "\n",
    "    # Decrypt the total cost\n",
    "    total_cost = decrypt(private_key, public_key, encrypted_total)\n",
    "\n",
    "    return total_cost"
   ]
  },
  {
   "cell_type": "code",
   "execution_count": 11,
   "id": "efb599fd",
   "metadata": {},
   "outputs": [],
   "source": [
    "# TEST CASE\n",
    "cart = [\n",
    "    # (price, quantity)\n",
    "    (2000, 1),\n",
    "    (120, 5),\n",
    "    (1999, 3),\n",
    "]\n",
    "\n",
    "total_cost = shopping_cart_client(cart)\n",
    "expected_price = 8597\n",
    "assert total_cost == expected_price"
   ]
  },
  {
   "cell_type": "markdown",
   "id": "7b889904",
   "metadata": {},
   "source": [
    "## Question 3: Application of partially homomorphic encryption: ElGamal (5 points)\n",
    "Change the shopping cart scenario to work with the ElGamal cryptosystem.\n",
    "\n",
    "Which changes did you have to make? What does this mean for the client (which advantages and/or disadvantages does the client have)?\n",
    "\n",
    "*Hint:* Which operations can the server perform? Which operations would be left for the client? Which operands can be encrypted, in comparison to the Paillier implementation?"
   ]
  },
  {
   "cell_type": "code",
   "execution_count": 12,
   "id": "8cd90bbb",
   "metadata": {},
   "outputs": [],
   "source": [
    "def e_multiply(pk, encrypted_value, scalar):\n",
    "    q, g, h = pk\n",
    "    return pow(encrypted_value, scalar, q)\n",
    "\n",
    "def e_encrypted_price_calculator(price, quantity, pk):\n",
    "    encrypted_total = e_multiply(pk, price, quantity)\n",
    "    return encrypted_total"
   ]
  },
  {
   "cell_type": "code",
   "execution_count": 13,
   "id": "1174b762",
   "metadata": {},
   "outputs": [],
   "source": [
    "def e_shopping_cart_client(cart):\n",
    "    # Generate the public and private keys for ElGamal encryption\n",
    "    public_key, private_key = e_keygen(q)\n",
    "    # Encrypt the prices and calculate encrypted total for each item\n",
    "    total_cost = 0\n",
    "    for price, quantity in cart:\n",
    "        encrypted_price = e_encrypt(price, public_key)\n",
    "        # Decrypt immediately (since ElGamal doesn't support homomorphic addition)\n",
    "        decrypted_price = e_decrypt(encrypted_price, private_key, public_key)\n",
    "        total_cost += decrypted_price * quantity\n",
    "    return total_cost"
   ]
  },
  {
   "cell_type": "code",
   "execution_count": 14,
   "id": "5557bba7",
   "metadata": {},
   "outputs": [],
   "source": [
    "# TEST CASE\n",
    "cart = [\n",
    "    # (price, quantity)\n",
    "    (2000, 1),\n",
    "    (120, 5),\n",
    "    (1999, 3),\n",
    "]\n",
    "\n",
    "\n",
    "total_cost = e_shopping_cart_client(cart)\n",
    "expected_price = 8597\n",
    "assert total_cost == expected_price"
   ]
  },
  {
   "cell_type": "markdown",
   "id": "5dc79bfb",
   "metadata": {},
   "source": [
    "1. In EIGamal cryptosystem, we can perform the multiplication of two encrypted values or we can multiply an encrypted value by a plaintext value. We cannot directly add two encrypted values, which is a key operation needed for calculating the total price in the shopping cart.\n",
    "2. The server can only multiply encrypted values, not add them. This means the server can't directly calculate the total price if both price and quantity are encrypted. \n",
    "3. The client could encrypt a total price for each item (price multiplied by quantity) before sending it to the server.\n",
    "4. The client eventually has to decrypt the final aggregated result, requiring two steps of computation (before sending to the server and after receiving the result)."
   ]
  },
  {
   "cell_type": "markdown",
   "id": "a2a1849f",
   "metadata": {},
   "source": [
    "## Question 4: Fully homomorphic encryption (5 points)\n",
    "1. Use the `Concrete Numpy` or `Pyfhel` library to compute the mean over a list of 6 encrypted integers.\n",
    "1. Implement a second version that gives you a mean with a precision of 2 decimal digits.\n",
    "1. How can you obtain the mean of a list with 7 encrypted integers?\n",
    "\n",
    "Clearly document the limitations of your implementations."
   ]
  },
  {
   "cell_type": "code",
   "execution_count": 15,
   "id": "74337aa0",
   "metadata": {},
   "outputs": [
    {
     "ename": "ModuleNotFoundError",
     "evalue": "No module named 'Pyfhel'",
     "output_type": "error",
     "traceback": [
      "\u001b[0;31m---------------------------------------------------------------------------\u001b[0m",
      "\u001b[0;31mModuleNotFoundError\u001b[0m                       Traceback (most recent call last)",
      "Cell \u001b[0;32mIn[15], line 1\u001b[0m\n\u001b[0;32m----> 1\u001b[0m \u001b[38;5;28;01mfrom\u001b[39;00m \u001b[38;5;21;01mPyfhel\u001b[39;00m \u001b[38;5;28;01mimport\u001b[39;00m Pyfhel\n\u001b[1;32m      4\u001b[0m \u001b[38;5;28;01mdef\u001b[39;00m \u001b[38;5;21mhomomorphic_mean_ckks\u001b[39m(HE, x):\n\u001b[1;32m      5\u001b[0m     \u001b[38;5;66;03m# Start with an encrypted zero\u001b[39;00m\n\u001b[1;32m      6\u001b[0m     encrypted_sum \u001b[38;5;241m=\u001b[39m HE\u001b[38;5;241m.\u001b[39mencrypt(\u001b[38;5;241m0\u001b[39m)\n",
      "\u001b[0;31mModuleNotFoundError\u001b[0m: No module named 'Pyfhel'"
     ]
    }
   ],
   "source": [
    "from Pyfhel import Pyfhel\n",
    "\n",
    "\n",
    "def homomorphic_mean_ckks(HE, x):\n",
    "    # Start with an encrypted zero\n",
    "    encrypted_sum = HE.encrypt(0)\n",
    "    for value in x:\n",
    "        temp_ctxt = HE.encrypt(value)\n",
    "        encrypted_sum += temp_ctxt\n",
    "\n",
    "    # Decrypt the sum\n",
    "    decrypted_sum = HE.decrypt(encrypted_sum, decode=False)\n",
    "    integer_sum = HE.decode(decrypted_sum)\n",
    "\n",
    "    # Calculate the mean\n",
    "    mean = integer_sum / len(x)\n",
    "    return mean[:3]\n",
    "\n",
    "    \n",
    "def generate_ckks_context():\n",
    "    HE = Pyfhel()\n",
    "    try:\n",
    "        HE.contextGen(scheme='BFV', n=4096, t_bits=20, sec=128)\n",
    "        HE.keyGen()\n",
    "    except Exception as e:\n",
    "        print(f\"Error initializing Pyfhel: {e}\")\n",
    "        raise\n",
    "\n",
    "    return HE\n"
   ]
  },
  {
   "cell_type": "code",
   "execution_count": null,
   "id": "89835df2",
   "metadata": {},
   "outputs": [],
   "source": [
    "example = [1, 7, 4, 5, 5, 4]\n",
    "HE = generate_ckks_context()\n",
    "homomorphic_evaluation = homomorphic_mean_ckks(HE, example)\n",
    "clear_evaluation = np.mean(example)\n",
    "print(f\"Evaluation of mean (plain) = {clear_evaluation}, homomorphically = {homomorphic_evaluation}\")"
   ]
  },
  {
   "cell_type": "code",
   "execution_count": null,
   "id": "581dc661",
   "metadata": {},
   "outputs": [],
   "source": [
    "def homomorphic_mean_2(HE, x):\n",
    "    # Start with an encrypted zero\n",
    "    encrypted_sum = HE.encrypt(0)\n",
    "    for value in x:\n",
    "        temp_ctxt = HE.encrypt(value)\n",
    "        encrypted_sum += temp_ctxt\n",
    "\n",
    "    # Decrypt the sum\n",
    "    decrypted_sum = HE.decrypt(encrypted_sum, decode=False)\n",
    "    integer_sum = HE.decode(decrypted_sum)\n",
    "\n",
    "    # Calculate the mean\n",
    "    mean = np.around(integer_sum / len(x), 2)\n",
    "    return mean[:3]\n",
    "    \n",
    "def generate_ckks_context():\n",
    "    HE = Pyfhel()\n",
    "    try:\n",
    "        HE.contextGen(scheme='BFV', n=4096, t_bits=20, sec=128)\n",
    "        HE.keyGen()\n",
    "    except Exception as e:\n",
    "        print(f\"Error initializing Pyfhel: {e}\")\n",
    "        raise\n",
    "\n",
    "    return HE"
   ]
  },
  {
   "cell_type": "code",
   "execution_count": null,
   "id": "cdf78a29",
   "metadata": {},
   "outputs": [],
   "source": [
    "example = [1, 7, 4, 5, 5, 4]\n",
    "HE2 = generate_ckks_context()\n",
    "homomorphic_evaluation = homomorphic_mean_2(HE2, example)\n",
    "clear_evaluation = np.mean(example)\n",
    "print(f\"Evaluation of mean (plain) = {clear_evaluation}, homomorphically = {homomorphic_evaluation}\")"
   ]
  },
  {
   "cell_type": "markdown",
   "id": "c6d24d90",
   "metadata": {},
   "source": [
    "1. To compute the mean of a list of 7 encrypted integers, We would modify the mean to divide by 7 instead of 6. The same principle applies for precision adjustment.\n",
    "\n",
    "2. Limitations:\n",
    "\n",
    "- Precision: The implementation provides only integer results due to the limitations of homomorphic encryption in handling floating-point operations.\n",
    "\n",
    "- Performance and Complexity: Homomorphic encryption is computationally expensive and not suitable for very large datasets or highly complex operations.\n",
    "\n",
    "- Encrypted Data Size: The size of the encrypted data is significantly larger than the plaintext, which may lead to increased storage and transmission costs."
   ]
  }
 ],
 "metadata": {
  "kernelspec": {
   "display_name": "venv",
   "language": "python",
   "name": "python3"
  },
  "language_info": {
   "codemirror_mode": {
    "name": "ipython",
    "version": 3
   },
   "file_extension": ".py",
   "mimetype": "text/x-python",
   "name": "python",
   "nbconvert_exporter": "python",
   "pygments_lexer": "ipython3",
   "version": "3.10.15"
  }
 },
 "nbformat": 4,
 "nbformat_minor": 5
}

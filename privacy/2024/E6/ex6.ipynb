{
 "cells": [
  {
   "cell_type": "markdown",
   "id": "13781f97",
   "metadata": {
    "id": "13781f97"
   },
   "source": [
    "# Exercise 6\n",
    "\n",
    "# Setup to run the notebook\n",
    "\n",
    "- Ensure that `python3` is available in the system with python version 3.10.\n",
    "- Create a virtual env - `python3 -m venv env`\n",
    "- Activate the env - `source env/bin/activate`\n",
    "- Run the code cells for observing results."
   ]
  },
  {
   "cell_type": "markdown",
   "id": "1c3e1b10",
   "metadata": {
    "id": "1c3e1b10"
   },
   "source": [
    "## 1: The ElGamal cryptosystem"
   ]
  },
  {
   "cell_type": "code",
   "execution_count": 4,
   "id": "b4f3fb6d",
   "metadata": {
    "id": "b4f3fb6d"
   },
   "outputs": [],
   "source": [
    "import random"
   ]
  },
  {
   "cell_type": "code",
   "execution_count": 5,
   "id": "b7b4744e",
   "metadata": {
    "id": "b7b4744e"
   },
   "outputs": [],
   "source": [
    "# Helper function\n",
    "def gcd(a, b):\n",
    "    while b != 0:\n",
    "        a, b = b, a % b\n",
    "    return a\n",
    "\n",
    "# Helper function\n",
    "def find_primitive_root(q):\n",
    "    for g in range(2, q):\n",
    "        if gcd(g, q) == 1:\n",
    "            return g\n",
    "    return None\n",
    "\n",
    "# Key generation for the ElGamal cryptosystem\n",
    "def e_keygen(q):\n",
    "    g = find_primitive_root(q)\n",
    "    if g is None:\n",
    "        return None, None\n",
    "    x = random.randint(1, q-2)\n",
    "    h = pow(g, x, q)\n",
    "\n",
    "    public_key = (q, g, h)\n",
    "    private_key = x\n",
    "\n",
    "    return public_key, private_key"
   ]
  },
  {
   "cell_type": "code",
   "execution_count": 6,
   "id": "261806b8",
   "metadata": {
    "id": "261806b8"
   },
   "outputs": [],
   "source": [
    "# Key encryption for the ElGamal cryptosystem\n",
    "def e_encrypt(msg, pk):\n",
    "    q, g, h = pk\n",
    "    k = random.randint(1, q-2)\n",
    "\n",
    "    c1 = pow(g, k, q)\n",
    "    c2 = (msg * pow(h, k, q)) % q\n",
    "\n",
    "    return c1, c2"
   ]
  },
  {
   "cell_type": "code",
   "execution_count": 7,
   "id": "1cdeb1d4",
   "metadata": {
    "id": "1cdeb1d4"
   },
   "outputs": [],
   "source": [
    "# Helper function\n",
    "def modinv(a, m):\n",
    "    # This function returns the inverse of a modulo m\n",
    "    g, x, y = egcd(a, m)\n",
    "    if g != 1:\n",
    "        raise Exception('Modular inverse does not exist')\n",
    "    else:\n",
    "        return x % m\n",
    "\n",
    "# Helper function\n",
    "def egcd(a, b):\n",
    "    # Extended Euclidean Algorithm\n",
    "    if a == 0:\n",
    "        return (b, 0, 1)\n",
    "    else:\n",
    "        g, y, x = egcd(b % a, a)\n",
    "        return (g, x - (b // a) * y, y)\n",
    "\n",
    "# Key decryption for the ElGamal cryptosystem\n",
    "def e_decrypt(c, x, pk):\n",
    "    c1, c2 = c\n",
    "    q, g, h = pk\n",
    "\n",
    "    s = pow(c1, x, q)\n",
    "    s_inv = modinv(s, q)\n",
    "    msg = (c2 * s_inv) % q\n",
    "    return msg"
   ]
  },
  {
   "cell_type": "code",
   "execution_count": 8,
   "id": "92f3fa87",
   "metadata": {
    "colab": {
     "base_uri": "https://localhost:8080/"
    },
    "id": "92f3fa87",
    "outputId": "b6982606-f061-48ab-a865-536a6a8092ba"
   },
   "outputs": [
    {
     "data": {
      "text/plain": [
       "50"
      ]
     },
     "execution_count": 8,
     "metadata": {},
     "output_type": "execute_result"
    }
   ],
   "source": [
    "# Test the ElGamal cryptosystem for generating keys, encrypting and decrypting\n",
    "q = 2**127 - 1\n",
    "\n",
    "sk, pk = e_keygen(q)\n",
    "c = e_encrypt(50, sk)\n",
    "\n",
    "e_decrypt(c, pk, sk)"
   ]
  },
  {
   "cell_type": "code",
   "execution_count": 9,
   "id": "9048184c",
   "metadata": {
    "id": "9048184c"
   },
   "outputs": [],
   "source": [
    "# Multiplication of ElGamal ciphertexts\n",
    "def e_mult(c1, c2, pk):\n",
    "    q, g, h = pk\n",
    "    c11, c12 = c1\n",
    "    c21, c22 = c2\n",
    "\n",
    "    # Multiply the first parts of the ciphertexts\n",
    "    new_c1 = (c11 * c21) % q\n",
    "\n",
    "    # Multiply the second parts of the ciphertexts\n",
    "    new_c2 = (c12 * c22) % q\n",
    "\n",
    "    return new_c1, new_c2"
   ]
  },
  {
   "cell_type": "code",
   "execution_count": 10,
   "id": "0ea6e458",
   "metadata": {
    "id": "0ea6e458"
   },
   "outputs": [],
   "source": [
    "# Test cases for showing correctness of the implementation\n",
    "\n",
    "# Test 1\n",
    "q = 2**127 - 1\n",
    "pk, sk = e_keygen(q)\n",
    "c1 = e_encrypt(5, pk)\n",
    "c2 = e_encrypt(10, pk)\n",
    "c3 = e_mult(c1, c2, pk)\n",
    "\n",
    "assert e_decrypt(c3, sk, pk) == 50\n",
    "\n",
    "# Test 2\n",
    "q = 2**227 - 1\n",
    "pk, sk = e_keygen(q)\n",
    "c1 = e_encrypt(5**25, pk)\n",
    "c2 = e_encrypt(10**25, pk)\n",
    "c3 = e_mult(c1, c2, pk)\n",
    "\n",
    "assert e_decrypt(c3, sk, pk) == 2980232238769531250000000000000000000000000\n",
    "\n",
    "\n",
    "# Test 3\n",
    "q = 2**327 - 1\n",
    "pk, sk = e_keygen(q)\n",
    "c1 = e_encrypt(28**50, pk)\n",
    "c2 = e_encrypt(329**50, pk)\n",
    "c3 = e_mult(c1, c2, pk)\n",
    "\n",
    "assert e_decrypt(c3, sk, pk) == 227649946206217048085015677443757528434845177408940388249825297116688924748709775450598383345711419"
   ]
  },
  {
   "cell_type": "markdown",
   "id": "1983fcdb",
   "metadata": {
    "id": "1983fcdb"
   },
   "source": [
    "## 2: Application of partially homomorphic encryption: Paillier\n",
    "\n",
    "Q: Which operations does the Pailler encryption scheme support?\n",
    "\n",
    "A: It supports the following operations\n",
    "- Homomorphic Addition of Ciphertexts\n",
    "- Homomorphic Multiplication of an Encrypted Number by a Plaintext Number\n",
    "\n",
    "\n",
    "Q: Which data types does it operate on?\n",
    "\n",
    "A: The Paillier cryptosystem operates on integers.\n",
    "\n"
   ]
  },
  {
   "cell_type": "code",
   "execution_count": 9,
   "id": "1070fbeb",
   "metadata": {
    "colab": {
     "base_uri": "https://localhost:8080/"
    },
    "collapsed": true,
    "id": "1070fbeb",
    "outputId": "ae24f60f-e6f6-4159-f3ab-ee94e37204e7"
   },
   "outputs": [
    {
     "name": "stdout",
     "output_type": "stream",
     "text": [
      "Requirement already satisfied: numpy in /usr/local/lib/python3.10/dist-packages (1.26.4)\n",
      "Requirement already satisfied: phe in /usr/local/lib/python3.10/dist-packages (1.5.0)\n",
      "Requirement already satisfied: concrete-numpy in /usr/local/lib/python3.10/dist-packages (0.11.1)\n",
      "Requirement already satisfied: concrete-compiler==0.24.0rc5 in /usr/local/lib/python3.10/dist-packages (from concrete-numpy) (0.24.0rc5)\n",
      "Requirement already satisfied: matplotlib<4.0.0,>=3.5.1 in /usr/local/lib/python3.10/dist-packages (from concrete-numpy) (3.8.0)\n",
      "Requirement already satisfied: networkx<3.0.0,>=2.6.3 in /usr/local/lib/python3.10/dist-packages (from concrete-numpy) (2.8.8)\n",
      "Requirement already satisfied: numpy<2.0.0,>=1.23.5 in /usr/local/lib/python3.10/dist-packages (from concrete-numpy) (1.26.4)\n",
      "Requirement already satisfied: scipy<2.0.0,>=1.10.1 in /usr/local/lib/python3.10/dist-packages (from concrete-numpy) (1.13.1)\n",
      "Requirement already satisfied: torch<2.0.0,>=1.13.1 in /usr/local/lib/python3.10/dist-packages (from concrete-numpy) (1.13.1)\n",
      "Requirement already satisfied: PyYAML in /usr/local/lib/python3.10/dist-packages (from concrete-compiler==0.24.0rc5->concrete-numpy) (6.0.2)\n",
      "Requirement already satisfied: setuptools in /usr/local/lib/python3.10/dist-packages (from concrete-compiler==0.24.0rc5->concrete-numpy) (75.6.0)\n",
      "Requirement already satisfied: contourpy>=1.0.1 in /usr/local/lib/python3.10/dist-packages (from matplotlib<4.0.0,>=3.5.1->concrete-numpy) (1.3.1)\n",
      "Requirement already satisfied: cycler>=0.10 in /usr/local/lib/python3.10/dist-packages (from matplotlib<4.0.0,>=3.5.1->concrete-numpy) (0.12.1)\n",
      "Requirement already satisfied: fonttools>=4.22.0 in /usr/local/lib/python3.10/dist-packages (from matplotlib<4.0.0,>=3.5.1->concrete-numpy) (4.55.0)\n",
      "Requirement already satisfied: kiwisolver>=1.0.1 in /usr/local/lib/python3.10/dist-packages (from matplotlib<4.0.0,>=3.5.1->concrete-numpy) (1.4.7)\n",
      "Requirement already satisfied: packaging>=20.0 in /usr/local/lib/python3.10/dist-packages (from matplotlib<4.0.0,>=3.5.1->concrete-numpy) (24.2)\n",
      "Requirement already satisfied: pillow>=6.2.0 in /usr/local/lib/python3.10/dist-packages (from matplotlib<4.0.0,>=3.5.1->concrete-numpy) (11.0.0)\n",
      "Requirement already satisfied: pyparsing>=2.3.1 in /usr/local/lib/python3.10/dist-packages (from matplotlib<4.0.0,>=3.5.1->concrete-numpy) (3.2.0)\n",
      "Requirement already satisfied: python-dateutil>=2.7 in /usr/local/lib/python3.10/dist-packages (from matplotlib<4.0.0,>=3.5.1->concrete-numpy) (2.8.2)\n",
      "Requirement already satisfied: typing-extensions in /usr/local/lib/python3.10/dist-packages (from torch<2.0.0,>=1.13.1->concrete-numpy) (4.12.2)\n",
      "Requirement already satisfied: nvidia-cuda-runtime-cu11==11.7.99 in /usr/local/lib/python3.10/dist-packages (from torch<2.0.0,>=1.13.1->concrete-numpy) (11.7.99)\n",
      "Requirement already satisfied: nvidia-cudnn-cu11==8.5.0.96 in /usr/local/lib/python3.10/dist-packages (from torch<2.0.0,>=1.13.1->concrete-numpy) (8.5.0.96)\n",
      "Requirement already satisfied: nvidia-cublas-cu11==11.10.3.66 in /usr/local/lib/python3.10/dist-packages (from torch<2.0.0,>=1.13.1->concrete-numpy) (11.10.3.66)\n",
      "Requirement already satisfied: nvidia-cuda-nvrtc-cu11==11.7.99 in /usr/local/lib/python3.10/dist-packages (from torch<2.0.0,>=1.13.1->concrete-numpy) (11.7.99)\n",
      "Requirement already satisfied: wheel in /usr/local/lib/python3.10/dist-packages (from nvidia-cublas-cu11==11.10.3.66->torch<2.0.0,>=1.13.1->concrete-numpy) (0.45.1)\n",
      "Requirement already satisfied: six>=1.5 in /usr/local/lib/python3.10/dist-packages (from python-dateutil>=2.7->matplotlib<4.0.0,>=3.5.1->concrete-numpy) (1.16.0)\n"
     ]
    }
   ],
   "source": [
    "# Install dependencies\n",
    "\n",
    "%pip install numpy\n",
    "%pip install phe\n",
    "%pip install concrete-numpy\n"
   ]
  },
  {
   "cell_type": "code",
   "execution_count": 1,
   "id": "Rvp7TltLGfik",
   "metadata": {
    "id": "Rvp7TltLGfik"
   },
   "outputs": [],
   "source": [
    "import numpy as np\n",
    "import concrete.numpy as cnp\n",
    "import phe as paillier"
   ]
  },
  {
   "cell_type": "code",
   "execution_count": 2,
   "id": "XY_DeiiRPq0_",
   "metadata": {
    "colab": {
     "base_uri": "https://localhost:8080/"
    },
    "id": "XY_DeiiRPq0_",
    "outputId": "71c07ea8-c009-4644-e23e-3b49103834f9"
   },
   "outputs": [
    {
     "name": "stdout",
     "output_type": "stream",
     "text": [
      "Total cost: 8597\n"
     ]
    }
   ],
   "source": [
    "class Client:\n",
    "    def __init__(self):\n",
    "        self.public_key, self.private_key = paillier.generate_paillier_keypair()\n",
    "\n",
    "    def encrypt_cart(self, cart):\n",
    "        # Encrypts only quantities in the cart\n",
    "        encrypted_cart = [(price, self.public_key.encrypt(quantity)) for price, quantity in cart]\n",
    "        return encrypted_cart\n",
    "\n",
    "    def decrypt_total(self, encrypted_total):\n",
    "        # Decrypts the total cost\n",
    "        return self.private_key.decrypt(encrypted_total)\n",
    "\n",
    "\n",
    "class Server:\n",
    "    def compute_encrypted_total(self, encrypted_cart):\n",
    "        # Start with an encrypted zero\n",
    "        total_encrypted = 0\n",
    "        for price, encrypted_quantity in encrypted_cart:\n",
    "            # Add each price multiplied by its encrypted quantity to the total\n",
    "            total_encrypted += price * encrypted_quantity\n",
    "        return total_encrypted\n",
    "\n",
    "# Example usage\n",
    "cart = [\n",
    "    # (price, quantity)\n",
    "    (2000, 1),\n",
    "    (120, 5),\n",
    "    (1999, 3),\n",
    "]\n",
    "\n",
    "client = Client()\n",
    "encrypted_cart = client.encrypt_cart(cart)\n",
    "server = Server()\n",
    "encrypted_total = server.compute_encrypted_total(encrypted_cart)\n",
    "total_cost = client.decrypt_total(encrypted_total)\n",
    "\n",
    "expected_price = 8597\n",
    "assert total_cost == expected_price\n",
    "print(\"Total cost:\", total_cost)\n"
   ]
  },
  {
   "cell_type": "markdown",
   "id": "7b889904",
   "metadata": {
    "id": "7b889904"
   },
   "source": [
    "## 3: Application of partially homomorphic encryption: ElGamal\n",
    "\n"
   ]
  },
  {
   "cell_type": "code",
   "execution_count": null,
   "id": "vrg1AwVqkNEY",
   "metadata": {
    "colab": {
     "base_uri": "https://localhost:8080/"
    },
    "id": "vrg1AwVqkNEY",
    "outputId": "92442f2b-80a1-4e46-a96d-4b5021f8fc4d"
   },
   "outputs": [
    {
     "name": "stdout",
     "output_type": "stream",
     "text": [
      "Total cost: 8597\n"
     ]
    }
   ],
   "source": [
    "class Client_EG:\n",
    "    def client(self, cart):\n",
    "        q = 2**127 - 1\n",
    "        pk, sk = e_keygen(q)\n",
    "        total_en = 0\n",
    "\n",
    "        for price, quantity in cart:\n",
    "            en_price = e_encrypt(price, pk)\n",
    "            en_quantity = e_encrypt(quantity, pk)\n",
    "            total_en += e_decrypt(Server_EG.price_calculator(en_price, en_quantity, pk),sk ,pk)\n",
    "        return total_en\n",
    "\n",
    "class Server_EG:\n",
    "    def price_calculator(en_price, en_quantity, pk):\n",
    "      en_total = e_mult(en_price, en_quantity, pk)\n",
    "      return en_total\n",
    "\n",
    "# Example cart with (price, quantity) pairs\n",
    "cart = [\n",
    "    (2000, 1),\n",
    "    (120, 5),\n",
    "    (1999, 3),\n",
    "]\n",
    "\n",
    "\n",
    "client = Client_EG()\n",
    "total_cost = client.client(cart)\n",
    "\n",
    "# Verify the result\n",
    "expected_price = 8597\n",
    "assert total_cost == expected_price\n",
    "print(\"Total cost:\", total_cost)"
   ]
  },
  {
   "cell_type": "markdown",
   "id": "5dc79bfb",
   "metadata": {
    "id": "5dc79bfb"
   },
   "source": [
    "Q: Which changes did you have to make?\n",
    "\n",
    "A:\n",
    "\n",
    "- For ElGamal the code had to be changed so that the additions do not happen in the calculator. Instead, the quantity is encrypted and multiplied by the encrypted price.\n",
    "\n",
    "- With Paillier, the calculator sees the price in plain text. The rest is encrypted. For ElGamal, everything is encrypted for the calculator.\n",
    "\n",
    "\n",
    "Q: What do your changes mean for the client (which advantages and/o disadvantages does the client have)?\n",
    "\n",
    "A:\n",
    "\n",
    "- The server can only multiply encrypted values, not add them. This means the server can't directly calculate the total price if both price and quantity are encrypted.\n",
    "\n",
    "- The client eventually has to decrypt the final aggregated result. Therefore we have more privacy for the client with the elGamal calculator but there the client has to add the sums itself.\n",
    "\n",
    "- In EIGamal cryptosystem, we can perform the multiplication of two encrypted values. We cannot directly add two encrypted values, which is a key operation needed for calculating the total price in the shopping cart."
   ]
  },
  {
   "cell_type": "markdown",
   "id": "a2a1849f",
   "metadata": {
    "id": "a2a1849f"
   },
   "source": [
    "## 4: Fully homomorphic encryption\n"
   ]
  },
  {
   "cell_type": "code",
   "execution_count": 12,
   "id": "vy9H2M_Eh6ED",
   "metadata": {
    "colab": {
     "base_uri": "https://localhost:8080/"
    },
    "id": "vy9H2M_Eh6ED",
    "outputId": "b13f4c02-92fa-46e7-8afd-5694a5058447"
   },
   "outputs": [
    {
     "name": "stdout",
     "output_type": "stream",
     "text": [
      "Evaluation of mean (plain) = 3.8333333333333335, homomorphically = 3\n"
     ]
    }
   ],
   "source": [
    "import concrete.numpy as cnp\n",
    "\n",
    "@cnp.compiler({\"x\": \"encrypted\"})\n",
    "def add(x):\n",
    "    return np.sum(x) // 6\n",
    "\n",
    "example = [[1, 2, 4, 5, 7, 4]]\n",
    "circuit = add.compile(example)\n",
    "result = circuit.encrypt_run_decrypt(*example)\n",
    "clear_evaluation = np.mean(example)\n",
    "\n",
    "print(f\"Evaluation of mean (plain) = {clear_evaluation}, homomorphically = {result}\")"
   ]
  },
  {
   "cell_type": "markdown",
   "id": "dCC_mllZ2i6Y",
   "metadata": {
    "id": "dCC_mllZ2i6Y"
   },
   "source": [
    "We cannot have floating point output in concrete numpy - https://docs.zama.ai/concrete/2.6/core-features/floating_points\n",
    "> Concrete partly supports floating points. There is no support for floating point inputs or outputs. However, there is support for intermediate values to be floating points (under certain constraints).\n",
    "\n",
    "We use Pyfhel that have floating point support.\n",
    "\n",
    "\n"
   ]
  },
  {
   "cell_type": "code",
   "execution_count": 30,
   "id": "3WWaYl7DiKi9",
   "metadata": {
    "colab": {
     "base_uri": "https://localhost:8080/"
    },
    "id": "3WWaYl7DiKi9",
    "outputId": "b38f448e-43c4-4fd0-bcb3-dc1faca4d809"
   },
   "outputs": [
    {
     "name": "stdout",
     "output_type": "stream",
     "text": [
      "Requirement already satisfied: wheel in /usr/local/lib/python3.10/dist-packages (0.45.1)\n",
      "Collecting Pyfhel\n",
      "  Using cached Pyfhel-3.4.2.tar.gz (1.0 MB)\n",
      "  Installing build dependencies ... \u001b[?25l\u001b[?25hdone\n",
      "  Getting requirements to build wheel ... \u001b[?25l\u001b[?25hdone\n",
      "  Preparing metadata (pyproject.toml) ... \u001b[?25l\u001b[?25hdone\n",
      "Requirement already satisfied: numpy>=1.21 in /usr/local/lib/python3.10/dist-packages (from Pyfhel) (1.26.4)\n",
      "Building wheels for collected packages: Pyfhel\n",
      "  Building wheel for Pyfhel (pyproject.toml) ... \u001b[?25l\u001b[?25hdone\n",
      "  Created wheel for Pyfhel: filename=Pyfhel-3.4.2-cp310-cp310-linux_x86_64.whl size=9679269 sha256=f7f3979e879e3de454c31e3f8ea1d973e51df1cd654642c63b6f87c68b837aaa\n",
      "  Stored in directory: /root/.cache/pip/wheels/74/7b/34/876b6d79c02f65e68e4e6f262735c2347cf77581ac50ca470d\n",
      "Successfully built Pyfhel\n",
      "Installing collected packages: Pyfhel\n",
      "Successfully installed Pyfhel-3.4.2\n"
     ]
    }
   ],
   "source": [
    "%pip install Pyfhel"
   ]
  },
  {
   "cell_type": "code",
   "execution_count": 40,
   "id": "-M_nBU7U2-tN",
   "metadata": {
    "colab": {
     "base_uri": "https://localhost:8080/"
    },
    "id": "-M_nBU7U2-tN",
    "outputId": "c449928b-436c-424f-f6cd-4a0a81330d2e"
   },
   "outputs": [
    {
     "name": "stdout",
     "output_type": "stream",
     "text": [
      "Evaluation of mean (plain) = 3.8333333333333335, homomorphically = 3.83\n"
     ]
    }
   ],
   "source": [
    "from Pyfhel import Pyfhel\n",
    "\n",
    "def homomorphic_mean_2(HE, x):\n",
    "    # Start with an encrypted zero\n",
    "    encrypted_sum = HE.encrypt(0)\n",
    "    for value in x:\n",
    "        temp_ctxt = HE.encrypt(value)\n",
    "        encrypted_sum += temp_ctxt\n",
    "\n",
    "    # Decrypt the sum\n",
    "    decrypted_sum = HE.decrypt(encrypted_sum, decode=False)\n",
    "    integer_sum = HE.decode(decrypted_sum)\n",
    "\n",
    "    # Calculate the mean\n",
    "    mean = np.around(integer_sum / len(x), 2)\n",
    "    return mean[0]\n",
    "\n",
    "def generate_ckks_context():\n",
    "    HE = Pyfhel()\n",
    "    try:\n",
    "        HE.contextGen(scheme='BFV', n=4096, t_bits=20, sec=128)\n",
    "        HE.keyGen()\n",
    "    except Exception as e:\n",
    "        print(f\"Error initializing Pyfhel: {e}\")\n",
    "        raise\n",
    "\n",
    "    return HE\n",
    "\n",
    "\n",
    "example = [1, 2, 4, 5, 7, 4]\n",
    "HE2 = generate_ckks_context()\n",
    "homomorphic_evaluation = homomorphic_mean_2(HE2, example)\n",
    "clear_evaluation = np.mean(example)\n",
    "print(f\"Evaluation of mean (plain) = {clear_evaluation}, homomorphically = {homomorphic_evaluation}\")"
   ]
  },
  {
   "cell_type": "markdown",
   "id": "c6d24d90",
   "metadata": {
    "id": "c6d24d90"
   },
   "source": [
    "Q: How can you obtain the mean of a list with 7 encrypted integers?\n",
    "\n",
    "A: To compute the mean of a list of 7 encrypted integers, We would modify the mean to divide by 7 instead of 6.\n",
    "\n",
    "Q: What are the limitations of your implementations?\n",
    "\n",
    "A: Limitations are as follows:\n",
    "\n",
    "- Precision: The implementation provides only integer results due to the limitations of homomorphic encryption in handling floating-point operations.\n",
    "\n",
    "- Performance and Complexity: Homomorphic encryption is computationally expensive and not suitable for very large datasets or highly complex operations.\n",
    "\n",
    "- Encrypted Data Size: The size of the encrypted data is significantly larger than the plaintext, which may lead to increased storage and transmission costs."
   ]
  }
 ],
 "metadata": {
  "colab": {
   "provenance": []
  },
  "kernelspec": {
   "display_name": "venv",
   "language": "python",
   "name": "python3"
  },
  "language_info": {
   "codemirror_mode": {
    "name": "ipython",
    "version": 3
   },
   "file_extension": ".py",
   "mimetype": "text/x-python",
   "name": "python",
   "nbconvert_exporter": "python",
   "pygments_lexer": "ipython3",
   "version": "3.10.15"
  }
 },
 "nbformat": 4,
 "nbformat_minor": 5
}

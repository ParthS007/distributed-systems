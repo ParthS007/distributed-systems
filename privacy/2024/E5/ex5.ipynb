{
 "cells": [
  {
   "cell_type": "markdown",
   "id": "63151866",
   "metadata": {},
   "source": [
    "## Exercise 5"
   ]
  },
  {
   "cell_type": "markdown",
   "id": "da765b28",
   "metadata": {},
   "source": [
    "# Setup to run the notebook\n",
    "\n",
    "- Ensure that `python3` is available in the system.\n",
    "- Create a virtual env - `python3 -m venv env`\n",
    "- Activate the env - `source env/bin/activate`\n",
    "- Download the requirements via pip - `pip install pandas numpy matplotlib`\n"
   ]
  },
  {
   "cell_type": "code",
   "execution_count": 3,
   "id": "f913e41e",
   "metadata": {},
   "outputs": [
    {
     "name": "stdout",
     "output_type": "stream",
     "text": [
      "               Name        DOB          SSN    Zip  Age         Workclass  \\\n",
      "0  Karrie Trusslove   9/7/1967  732-14-6110  64152   39         State-gov   \n",
      "1  Brandise Tripony   6/7/1988  150-19-2766  61523   50  Self-emp-not-inc   \n",
      "2     Brenn McNeely   8/6/1991  725-59-9860  95668   38           Private   \n",
      "3       Dorry Poter   4/6/2009  659-57-4974  25503   53           Private   \n",
      "4       Dick Honnan  9/16/1951  220-93-3811  75387   28           Private   \n",
      "\n",
      "   fnlwgt  Education  Education-Num      Marital Status         Occupation  \\\n",
      "0   77516  Bachelors             13       Never-married       Adm-clerical   \n",
      "1   83311  Bachelors             13  Married-civ-spouse    Exec-managerial   \n",
      "2  215646    HS-grad              9            Divorced  Handlers-cleaners   \n",
      "3  234721       11th              7  Married-civ-spouse  Handlers-cleaners   \n",
      "4  338409  Bachelors             13  Married-civ-spouse     Prof-specialty   \n",
      "\n",
      "    Relationship   Race     Sex  Capital Gain  Capital Loss  Hours per week  \\\n",
      "0  Not-in-family  White    Male          2174             0              40   \n",
      "1        Husband  White    Male             0             0              13   \n",
      "2  Not-in-family  White    Male             0             0              40   \n",
      "3        Husband  Black    Male             0             0              40   \n",
      "4           Wife  Black  Female             0             0              40   \n",
      "\n",
      "         Country Target  \n",
      "0  United-States  <=50K  \n",
      "1  United-States  <=50K  \n",
      "2  United-States  <=50K  \n",
      "3  United-States  <=50K  \n",
      "4           Cuba  <=50K  \n"
     ]
    }
   ],
   "source": [
    "# Load the data and libraries\n",
    "import pandas as pd\n",
    "import numpy as np\n",
    "import matplotlib.pyplot as plt\n",
    "plt.style.use('seaborn-v0_8-whitegrid')\n",
    "\n",
    "adult = pd.read_csv('adult_with_pii.csv')\n",
    "print(adult.head())"
   ]
  },
  {
   "cell_type": "markdown",
   "id": "73baf0b5",
   "metadata": {},
   "source": [
    "## 1: Laplace mechanism and counting queries"
   ]
  },
  {
   "cell_type": "code",
   "execution_count": 4,
   "id": "6af19429",
   "metadata": {},
   "outputs": [],
   "source": [
    "def laplace_mech(v, sensitivity, epsilon):\n",
    "    \"\"\"\n",
    "    Implements the Laplace mechanism for differential privacy.\n",
    "\n",
    "    :param v: The true answer to a query.\n",
    "    :param sensitivity: The sensitivity of the query.\n",
    "    :param epsilon: The privacy parameter.\n",
    "    :return: The differentially private answer to the query.\n",
    "    \"\"\"\n",
    "    # Calculate the scale of the Laplace noise\n",
    "    scale = sensitivity / epsilon\n",
    "\n",
    "    # Generate the Laplace noise\n",
    "    noise = np.random.laplace(0, scale)\n",
    "\n",
    "    # Add the noise to the true answer and return\n",
    "    return v + noise"
   ]
  },
  {
   "cell_type": "code",
   "execution_count": 8,
   "id": "2a92efe2",
   "metadata": {},
   "outputs": [
    {
     "name": "stdout",
     "output_type": "stream",
     "text": [
      "True count of people over 29: 22850\n",
      "Differentially private count of people over 29: 22849.69\n"
     ]
    }
   ],
   "source": [
    "def people_over_29_dp(adult, epsilon):\n",
    "    # Count the number of people over 29 in the dataset\n",
    "    true_count = (adult['Age'] > 29).sum()\n",
    "    print(f\"True count of people over 29: {true_count}\")\n",
    "    # The sensitivity of the crosstab query is 1\n",
    "    # because we are counting the number of people and\n",
    "    # it can only increase or decrease by 1.\n",
    "    sensitivity = 1\n",
    "\n",
    "    # Apply the Laplace mechanism\n",
    "    dp_count = laplace_mech(true_count, sensitivity, epsilon)\n",
    "\n",
    "    return dp_count\n",
    "\n",
    "# ln(2) = 0.6931 ~= 0.7\n",
    "print(f\"Differentially private count of people over 29: {people_over_29_dp(adult, epsilon=0.7):.2f}\")"
   ]
  },
  {
   "cell_type": "markdown",
   "id": "c40953c2",
   "metadata": {},
   "source": [
    "Exaplin:\n",
    "- What is the sensitivity of this query, and why?\n",
    "\n",
    "Answer:\n",
    "1. The sensitivity of the counting query in the `people_over_29_dp()` function is 1.\n",
    "2. This is because the query counts the number of people over 29 in the `adult` dataset, and adding or removing one individual can change the count by at most 1."
   ]
  },
  {
   "cell_type": "markdown",
   "id": "f94300e4",
   "metadata": {},
   "source": [
    "## 2: Contingency tables"
   ]
  },
  {
   "cell_type": "code",
   "execution_count": 11,
   "id": "3db7c0e8",
   "metadata": {},
   "outputs": [
    {
     "data": {
      "text/html": [
       "<div>\n",
       "<style scoped>\n",
       "    .dataframe tbody tr th:only-of-type {\n",
       "        vertical-align: middle;\n",
       "    }\n",
       "\n",
       "    .dataframe tbody tr th {\n",
       "        vertical-align: top;\n",
       "    }\n",
       "\n",
       "    .dataframe thead th {\n",
       "        text-align: right;\n",
       "    }\n",
       "</style>\n",
       "<table border=\"1\" class=\"dataframe\">\n",
       "  <thead>\n",
       "    <tr style=\"text-align: right;\">\n",
       "      <th>Sex</th>\n",
       "      <th>Female</th>\n",
       "      <th>Male</th>\n",
       "    </tr>\n",
       "    <tr>\n",
       "      <th>Education</th>\n",
       "      <th></th>\n",
       "      <th></th>\n",
       "    </tr>\n",
       "  </thead>\n",
       "  <tbody>\n",
       "    <tr>\n",
       "      <th>10th</th>\n",
       "      <td>294.100749</td>\n",
       "      <td>637.100749</td>\n",
       "    </tr>\n",
       "    <tr>\n",
       "      <th>11th</th>\n",
       "      <td>431.100749</td>\n",
       "      <td>742.100749</td>\n",
       "    </tr>\n",
       "    <tr>\n",
       "      <th>12th</th>\n",
       "      <td>143.100749</td>\n",
       "      <td>288.100749</td>\n",
       "    </tr>\n",
       "    <tr>\n",
       "      <th>1st-4th</th>\n",
       "      <td>45.100749</td>\n",
       "      <td>121.100749</td>\n",
       "    </tr>\n",
       "    <tr>\n",
       "      <th>5th-6th</th>\n",
       "      <td>83.100749</td>\n",
       "      <td>248.100749</td>\n",
       "    </tr>\n",
       "    <tr>\n",
       "      <th>7th-8th</th>\n",
       "      <td>159.100749</td>\n",
       "      <td>485.100749</td>\n",
       "    </tr>\n",
       "    <tr>\n",
       "      <th>9th</th>\n",
       "      <td>143.100749</td>\n",
       "      <td>369.100749</td>\n",
       "    </tr>\n",
       "    <tr>\n",
       "      <th>Assoc-acdm</th>\n",
       "      <td>420.100749</td>\n",
       "      <td>645.100749</td>\n",
       "    </tr>\n",
       "    <tr>\n",
       "      <th>Assoc-voc</th>\n",
       "      <td>499.100749</td>\n",
       "      <td>881.100749</td>\n",
       "    </tr>\n",
       "    <tr>\n",
       "      <th>Bachelors</th>\n",
       "      <td>1618.100749</td>\n",
       "      <td>3735.100749</td>\n",
       "    </tr>\n",
       "    <tr>\n",
       "      <th>Doctorate</th>\n",
       "      <td>85.100749</td>\n",
       "      <td>326.100749</td>\n",
       "    </tr>\n",
       "    <tr>\n",
       "      <th>HS-grad</th>\n",
       "      <td>3389.100749</td>\n",
       "      <td>7110.100749</td>\n",
       "    </tr>\n",
       "    <tr>\n",
       "      <th>Masters</th>\n",
       "      <td>535.100749</td>\n",
       "      <td>1186.100749</td>\n",
       "    </tr>\n",
       "    <tr>\n",
       "      <th>Preschool</th>\n",
       "      <td>15.100749</td>\n",
       "      <td>34.100749</td>\n",
       "    </tr>\n",
       "    <tr>\n",
       "      <th>Prof-school</th>\n",
       "      <td>91.100749</td>\n",
       "      <td>483.100749</td>\n",
       "    </tr>\n",
       "    <tr>\n",
       "      <th>Some-college</th>\n",
       "      <td>2805.100749</td>\n",
       "      <td>4484.100749</td>\n",
       "    </tr>\n",
       "  </tbody>\n",
       "</table>\n",
       "</div>"
      ],
      "text/plain": [
       "Sex                Female         Male\n",
       "Education                             \n",
       "10th           294.100749   637.100749\n",
       "11th           431.100749   742.100749\n",
       "12th           143.100749   288.100749\n",
       "1st-4th         45.100749   121.100749\n",
       "5th-6th         83.100749   248.100749\n",
       "7th-8th        159.100749   485.100749\n",
       "9th            143.100749   369.100749\n",
       "Assoc-acdm     420.100749   645.100749\n",
       "Assoc-voc      499.100749   881.100749\n",
       "Bachelors     1618.100749  3735.100749\n",
       "Doctorate       85.100749   326.100749\n",
       "HS-grad       3389.100749  7110.100749\n",
       "Masters        535.100749  1186.100749\n",
       "Preschool       15.100749    34.100749\n",
       "Prof-school     91.100749   483.100749\n",
       "Some-college  2805.100749  4484.100749"
      ]
     },
     "execution_count": 11,
     "metadata": {},
     "output_type": "execute_result"
    }
   ],
   "source": [
    "# Generate differentially private contingency tables fo Education and Sex columns\n",
    "def dp_crosstab_education_sex(adult, epsilon):\n",
    "    # Create the contingency table\n",
    "    crosstab = pd.crosstab(adult['Education'], adult['Sex'])\n",
    "\n",
    "    # The sensitivity of the crosstab query is 1\n",
    "    # because we are counting the number of people and it can only increase or decrease by 1.\n",
    "    sensitivity = 1\n",
    "\n",
    "    # Apply the Laplace mechanism to the crosstab\n",
    "    dp_crosstab = laplace_mech(crosstab, sensitivity, epsilon)\n",
    "\n",
    "    return dp_crosstab\n",
    "\n",
    "dp_crosstab_education_sex(adult, 1.0)"
   ]
  },
  {
   "cell_type": "code",
   "execution_count": 6,
   "id": "25903503",
   "metadata": {},
   "outputs": [
    {
     "data": {
      "text/html": [
       "<div>\n",
       "<style scoped>\n",
       "    .dataframe tbody tr th:only-of-type {\n",
       "        vertical-align: middle;\n",
       "    }\n",
       "\n",
       "    .dataframe tbody tr th {\n",
       "        vertical-align: top;\n",
       "    }\n",
       "\n",
       "    .dataframe thead th {\n",
       "        text-align: right;\n",
       "    }\n",
       "</style>\n",
       "<table border=\"1\" class=\"dataframe\">\n",
       "  <thead>\n",
       "    <tr style=\"text-align: right;\">\n",
       "      <th>Race</th>\n",
       "      <th>Amer-Indian-Eskimo</th>\n",
       "      <th>Asian-Pac-Islander</th>\n",
       "      <th>Black</th>\n",
       "      <th>Other</th>\n",
       "      <th>White</th>\n",
       "    </tr>\n",
       "    <tr>\n",
       "      <th>Relationship</th>\n",
       "      <th></th>\n",
       "      <th></th>\n",
       "      <th></th>\n",
       "      <th></th>\n",
       "      <th></th>\n",
       "    </tr>\n",
       "  </thead>\n",
       "  <tbody>\n",
       "    <tr>\n",
       "      <th>Husband</th>\n",
       "      <td>93.318972</td>\n",
       "      <td>411.318972</td>\n",
       "      <td>672.318972</td>\n",
       "      <td>81.318972</td>\n",
       "      <td>11941.318972</td>\n",
       "    </tr>\n",
       "    <tr>\n",
       "      <th>Not-in-family</th>\n",
       "      <td>82.318972</td>\n",
       "      <td>215.318972</td>\n",
       "      <td>813.318972</td>\n",
       "      <td>74.318972</td>\n",
       "      <td>7126.318972</td>\n",
       "    </tr>\n",
       "    <tr>\n",
       "      <th>Other-relative</th>\n",
       "      <td>14.318972</td>\n",
       "      <td>83.318972</td>\n",
       "      <td>165.318972</td>\n",
       "      <td>29.318972</td>\n",
       "      <td>695.318972</td>\n",
       "    </tr>\n",
       "    <tr>\n",
       "      <th>Own-child</th>\n",
       "      <td>49.318972</td>\n",
       "      <td>174.318972</td>\n",
       "      <td>556.318972</td>\n",
       "      <td>38.318972</td>\n",
       "      <td>4256.318972</td>\n",
       "    </tr>\n",
       "    <tr>\n",
       "      <th>Unmarried</th>\n",
       "      <td>59.318972</td>\n",
       "      <td>92.318972</td>\n",
       "      <td>770.318972</td>\n",
       "      <td>38.318972</td>\n",
       "      <td>2492.318972</td>\n",
       "    </tr>\n",
       "    <tr>\n",
       "      <th>Wife</th>\n",
       "      <td>20.318972</td>\n",
       "      <td>70.318972</td>\n",
       "      <td>154.318972</td>\n",
       "      <td>17.318972</td>\n",
       "      <td>1312.318972</td>\n",
       "    </tr>\n",
       "  </tbody>\n",
       "</table>\n",
       "</div>"
      ],
      "text/plain": [
       "Race            Amer-Indian-Eskimo  Asian-Pac-Islander       Black      Other  \\\n",
       "Relationship                                                                    \n",
       "Husband                  93.318972          411.318972  672.318972  81.318972   \n",
       "Not-in-family            82.318972          215.318972  813.318972  74.318972   \n",
       "Other-relative           14.318972           83.318972  165.318972  29.318972   \n",
       "Own-child                49.318972          174.318972  556.318972  38.318972   \n",
       "Unmarried                59.318972           92.318972  770.318972  38.318972   \n",
       "Wife                     20.318972           70.318972  154.318972  17.318972   \n",
       "\n",
       "Race                   White  \n",
       "Relationship                  \n",
       "Husband         11941.318972  \n",
       "Not-in-family    7126.318972  \n",
       "Other-relative    695.318972  \n",
       "Own-child        4256.318972  \n",
       "Unmarried        2492.318972  \n",
       "Wife             1312.318972  "
      ]
     },
     "execution_count": 6,
     "metadata": {},
     "output_type": "execute_result"
    }
   ],
   "source": [
    "# Generate differentially private contingency tables fo Relationship and Race columns\n",
    "def dp_crosstab_relationship_race(adult, epsilon):\n",
    "    # Create the contingency table\n",
    "    crosstab = pd.crosstab(adult['Relationship'], adult['Race'])\n",
    "\n",
    "    # The sensitivity of the crosstab query is 1\n",
    "    # because we are counting the number of people and it can only increase or decrease by 1.\n",
    "    sensitivity = 1\n",
    "\n",
    "    # Apply the Laplace mechanism to the crosstab\n",
    "    dp_crosstab = laplace_mech(crosstab, sensitivity, epsilon)\n",
    "\n",
    "    return dp_crosstab\n",
    "\n",
    "dp_crosstab_relationship_race(adult, 0.3)"
   ]
  },
  {
   "cell_type": "markdown",
   "id": "d56f5fc7",
   "metadata": {},
   "source": [
    "Explain:\n",
    "- Does parallel composition apply for generation of the contingency table? Why or why not?\n",
    "- Does the number of variables used in constructing the contingency table matter for privacy\n",
    "cost? Does it matter for accuracy?\n",
    "\n",
    "\n",
    "Answer: Parallel composition when different queries are run on disjoint subsets of the data.\n",
    "\n",
    "1. Parallel composition does not directly apply here because the contingency table is created from the entire dataset, not from disjoint subsets. \n",
    "2. The number of variables (or the dimensions of the contingency table) does affect the overall privacy cost.\n",
    "3. The number of variables used in constructing the contingency table does matter for accuracy because as the number of cells in the table increases, the amount of noise added to each cell remains constant (since sensitivity is still 1 for each count), but the relative impact of this noise on smaller counts can be more significant."
   ]
  },
  {
   "cell_type": "markdown",
   "id": "1160b808",
   "metadata": {},
   "source": [
    "## 3: Differentially private selections from sets"
   ]
  },
  {
   "cell_type": "code",
   "execution_count": null,
   "id": "8b5b1ecd",
   "metadata": {},
   "outputs": [
    {
     "data": {
      "text/plain": [
       "Occupation\n",
       "Prof-specialty       4140\n",
       "Craft-repair         4099\n",
       "Exec-managerial      4066\n",
       "Adm-clerical         3770\n",
       "Sales                3650\n",
       "Other-service        3295\n",
       "Machine-op-inspct    2002\n",
       "Transport-moving     1597\n",
       "Handlers-cleaners    1370\n",
       "Farming-fishing       994\n",
       "Tech-support          928\n",
       "Protective-serv       649\n",
       "Priv-house-serv       149\n",
       "Armed-Forces            9\n",
       "Name: count, dtype: int64"
      ]
     },
     "execution_count": 12,
     "metadata": {},
     "output_type": "execute_result"
    }
   ],
   "source": [
    "adult['Occupation'].value_counts()"
   ]
  },
  {
   "cell_type": "code",
   "execution_count": 15,
   "id": "4d7842d0",
   "metadata": {},
   "outputs": [
    {
     "data": {
      "text/plain": [
       "8.159041394335512"
      ]
     },
     "execution_count": 15,
     "metadata": {},
     "output_type": "execute_result"
    }
   ],
   "source": [
    "options = [\n",
    "    'Prof-specialty',\n",
    "    'Craft-repair',\n",
    "    'Exec-managerial',\n",
    "    'Adm-clerical',\n",
    "    'Sales',\n",
    "    'Other-service',\n",
    "    'Machine-op-inspct',\n",
    "    'Prof-specialty',\n",
    "    'Transport-moving',\n",
    "    'Handlers-cleaners',\n",
    "    'Farming-fishing',\n",
    "    'Tech-support',\n",
    "    'Protective-serv',\n",
    "    'Priv-house-serv',\n",
    "    'Armed-Forces'\n",
    "]\n",
    "\n",
    "def score(option):\n",
    "    # Count the frequency of each occupation\n",
    "    frequency = adult['Occupation'].value_counts()\n",
    "\n",
    "    # Normalize these counts to a scale 1 to 10\n",
    "    max_score = 10\n",
    "    min_score = 1\n",
    "    score_range = max_score - min_score\n",
    "    normalized_scores = ((frequency - frequency.min()) / (frequency.max() - frequency.min())) * score_range + min_score\n",
    "\n",
    "    # Convert to a dictionary for easy lookup\n",
    "    scores_dict = normalized_scores.to_dict()\n",
    "\n",
    "    return scores_dict.get(option, 0)\n",
    "\n",
    "score('Other-service')"
   ]
  },
  {
   "cell_type": "code",
   "execution_count": 17,
   "id": "c7925b0d",
   "metadata": {},
   "outputs": [
    {
     "data": {
      "text/plain": [
       "'Prof-specialty'"
      ]
     },
     "execution_count": 17,
     "metadata": {},
     "output_type": "execute_result"
    }
   ],
   "source": [
    "def most_common_occupation(R, score, sensitivity, epsilon):\n",
    "    # Count occurrences of each occupation\n",
    "    counts = adult['Occupation'].value_counts()\n",
    "\n",
    "    # Apply the Laplace mechanism to each count\n",
    "    noisy_counts = counts.apply(lambda x: laplace_mech(x, sensitivity, epsilon))\n",
    "\n",
    "    # Find the occupation with the highest noisy count\n",
    "    most_common_occupation = noisy_counts.idxmax()\n",
    "\n",
    "    return most_common_occupation\n",
    "\n",
    "most_common_occupation(options, score, 1, 0.05)"
   ]
  },
  {
   "cell_type": "markdown",
   "id": "beeddd67",
   "metadata": {},
   "source": [
    "Explain:\n",
    "\n",
    "- What is the sensitivity of your scoring function?\n",
    "- What is the total privacy cost for most_common_occupation and why?\n",
    "\n",
    "Answer:\n",
    "1. In the worst case, adding or removing one individual could change the frequency of the least and the most common categories by 1 so sensitivity is greater than 0 and depends on the dataset's size and distribution.\n",
    "2. Total privacy cost will be epsilon = 0.05\n",
    "- We are interested in the maximum of a set of counts -> \"Which occupation is the most common?\"\n",
    "- We can see it as single application of a differentially private mechanism to the dataset.\n"
   ]
  },
  {
   "cell_type": "markdown",
   "id": "ad933b2b",
   "metadata": {},
   "source": [
    "## 4: Differentially private sums"
   ]
  },
  {
   "cell_type": "code",
   "execution_count": 19,
   "id": "b46633eb",
   "metadata": {},
   "outputs": [
    {
     "name": "stdout",
     "output_type": "stream",
     "text": [
      "Descriptive Statistics for Capital Gain:\n",
      " count    32561.000000\n",
      "mean      1077.648844\n",
      "std       7385.292085\n",
      "min          0.000000\n",
      "25%          0.000000\n",
      "50%          0.000000\n",
      "75%          0.000000\n",
      "max      99999.000000\n",
      "Name: Capital Gain, dtype: float64\n"
     ]
    },
    {
     "data": {
      "image/png": "[encoded data removed]",
      "text/plain": [
       "<Figure size 1000x600 with 1 Axes>"
      ]
     },
     "metadata": {},
     "output_type": "display_data"
    }
   ],
   "source": [
    "def analyze_capgain_distribution(adult=adult):\n",
    "    stats = adult['Capital Gain'].describe()\n",
    "    print(\"Descriptive Statistics for Capital Gain:\\n\", stats)\n",
    "\n",
    "    # Histogram\n",
    "    plt.figure(figsize=(10, 6))\n",
    "    adult['Capital Gain'].hist(bins=50)\n",
    "    plt.title('Histogram of Capital Gain')\n",
    "    plt.xlabel('Capital Gain')\n",
    "    plt.ylabel('Frequency')\n",
    "    plt.show()\n",
    "\n",
    "analyze_capgain_distribution()"
   ]
  },
  {
   "cell_type": "code",
   "execution_count": 23,
   "id": "8d9276bd",
   "metadata": {},
   "outputs": [
    {
     "name": "stdout",
     "output_type": "stream",
     "text": [
      "Differentially private sum of Capital Gain: 16790467.77\n"
     ]
    }
   ],
   "source": [
    "def dp_sum_capgain(epsilon):\n",
    "    # Clipping parameter set based on data distribution\n",
    "    clipping_param = 10000\n",
    "\n",
    "    # Clip the \"Capital Gain\" values\n",
    "    clipped_values = adult['Capital Gain'].clip(upper=clipping_param)\n",
    "\n",
    "    # Calculate the sum of clipped values\n",
    "    sum_clipped = clipped_values.sum()\n",
    "\n",
    "    # Sensitivity is equal to the clipping parameter\n",
    "    sensitivity = clipping_param\n",
    "\n",
    "    # Apply the Laplace mechanism\n",
    "    dp_sum = laplace_mech(sum_clipped, sensitivity, epsilon)\n",
    "\n",
    "    return dp_sum\n",
    "\n",
    "print(f\"Differentially private sum of Capital Gain: {dp_sum_capgain(epsilon=0.04):.2f}\")"
   ]
  },
  {
   "cell_type": "markdown",
   "id": "68849868",
   "metadata": {},
   "source": [
    "Explain:\n",
    "\n",
    "- What clipping parameter did you use in your definition of dp_sum_capgain, and why?\n",
    "- What is the sensitivity of the query you used in dp_sum_capgain, and how is it bounded?\n",
    "- Argue that your definition of dp_sum_capgain has a total privacy cost of epsilon.\n",
    "\n",
    "Answer:\n",
    "\n",
    "1. Choosing clipping param\n",
    "- The 25th, 50th (median), and 75th percentiles are all 0. This suggests that a significant portion of the dataset has a capital gain of zero.\n",
    "- The standard deviation is quite high (7385.29), and the maximum value is 99999. This indicates a wide range in the data and the presence of extreme outliers.\n",
    "- I chose 10000 which is likely to cover a significant portion of the meaningful non-zero data while excluding the extreme outliers.\n",
    "\n",
    "2. The sensitivity of the query is the clipping parameter, as it represents the maximum change to the sum from any single individual's data.\n",
    "\n",
    "3. The privacy cost of this operation is epsilon, as the Laplace mechanism is applied once to the sum."
   ]
  },
  {
   "cell_type": "markdown",
   "id": "8ad4c48f",
   "metadata": {},
   "source": [
    "## 5: Sensitivity"
   ]
  },
  {
   "cell_type": "code",
   "execution_count": 24,
   "id": "35e579f8",
   "metadata": {},
   "outputs": [
    {
     "name": "stdout",
     "output_type": "stream",
     "text": [
      "Differencing attack result: 39\n",
      "Max age: 90\n"
     ]
    }
   ],
   "source": [
    "def differencing_attack():\n",
    "    q1 = adult['Age'].sum()\n",
    "    q2 = adult[adult['Name'] != 'Karrie Trusslove']['Age'].sum()\n",
    "\n",
    "    return q1 - q2\n",
    "\n",
    "print('Differencing attack result:', differencing_attack())\n",
    "\n",
    "max_age = adult['Age'].max()\n",
    "print('Max age:', max_age)"
   ]
  },
  {
   "cell_type": "markdown",
   "id": "0e23bb63",
   "metadata": {},
   "source": [
    "Explain:\n",
    "\n",
    "- What is the *sensitivity* of the `differencing_attack` query defined above, and why?"
   ]
  },
  {
   "cell_type": "markdown",
   "id": "d5be5b8f",
   "metadata": {},
   "source": [
    "Answer:\n",
    "\n",
    "The query result directly outputs the age of a single individual, the sensitivity is equal to the maximum possible age in the dataset which is 90 in the provided dataset."
   ]
  },
  {
   "cell_type": "code",
   "execution_count": 25,
   "id": "5644f61b",
   "metadata": {},
   "outputs": [
    {
     "name": "stdout",
     "output_type": "stream",
     "text": [
      "DP Differencing attack result: 11.462242493405938\n"
     ]
    }
   ],
   "source": [
    "def dp_differencing_attack(epsilon):\n",
    "    sensitivity = 90  # Based on the maximum age in the dataset\n",
    "    # Split the epsilon between the two queries\n",
    "    epsilon_per_query = epsilon / 2\n",
    "\n",
    "    q1 = adult['Age'].sum()\n",
    "    dp_q1 = laplace_mech(q1, sensitivity, epsilon_per_query)\n",
    "\n",
    "    q2 = adult[adult['Name'] != 'Karrie Trusslove']['Age'].sum()\n",
    "    dp_q2 = laplace_mech(q2, sensitivity, epsilon_per_query)\n",
    "\n",
    "    return dp_q1 - dp_q2\n",
    "\n",
    "print('DP Differencing attack result:', dp_differencing_attack(2.0))"
   ]
  }
 ],
 "metadata": {
  "kernelspec": {
   "display_name": "env",
   "language": "python",
   "name": "python3"
  },
  "language_info": {
   "codemirror_mode": {
    "name": "ipython",
    "version": 3
   },
   "file_extension": ".py",
   "mimetype": "text/x-python",
   "name": "python",
   "nbconvert_exporter": "python",
   "pygments_lexer": "ipython3",
   "version": "3.11.8"
  }
 },
 "nbformat": 4,
 "nbformat_minor": 5
}
